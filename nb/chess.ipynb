{
 "cells": [
  {
   "cell_type": "markdown",
   "metadata": {},
   "source": [
    "Using the python chess library we are trying to create an chess AI. "
   ]
  },
  {
   "cell_type": "code",
   "execution_count": null,
   "metadata": {},
   "outputs": [],
   "source": [
    "import chess\n",
    "import random\n",
    "\n",
    "import time\n",
    "\n",
    "from tqdm import tqdm\n",
    "\n",
    "import matplotlib.pyplot as plt\n",
    "import seaborn as sns; sns.set()"
   ]
  },
  {
   "cell_type": "code",
   "execution_count": null,
   "metadata": {},
   "outputs": [],
   "source": [
    "board = chess.Board()"
   ]
  },
  {
   "cell_type": "markdown",
   "metadata": {},
   "source": [
    "Not every pieces have the same value"
   ]
  },
  {
   "cell_type": "code",
   "execution_count": null,
   "metadata": {},
   "outputs": [],
   "source": [
    "pieces_value_dict = {\n",
    "    1: 1.0,\n",
    "    2: 3.0,\n",
    "    3: 3.0,\n",
    "    4: 5.0,\n",
    "    5: 9.0,\n",
    "    6: 0.0,\n",
    "}"
   ]
  },
  {
   "cell_type": "markdown",
   "metadata": {},
   "source": [
    "Not every square have the same efficienty"
   ]
  },
  {
   "cell_type": "code",
   "execution_count": null,
   "metadata": {},
   "outputs": [],
   "source": [
    "squares_value_dict = {\n",
    "}\n",
    "\n",
    "for k in range(0, 64):\n",
    "    if k in [27, 28, 35, 36]:\n",
    "        squares_value_dict[k] = 1.5\n",
    "    elif k in [18, 19, 20, 21, 26, 29, 34, 37, 42, 43, 44, 45]:\n",
    "        squares_value_dict[k] = 1\n",
    "    else: \n",
    "        squares_value_dict[k] = 0.75"
   ]
  },
  {
   "cell_type": "markdown",
   "metadata": {},
   "source": [
    "Multiple score function which allow us to apprehend the situation of the board"
   ]
  },
  {
   "cell_type": "code",
   "execution_count": null,
   "metadata": {},
   "outputs": [],
   "source": [
    "def score_board_enemy_pieces(a_board, a_color):\n",
    "    board_enemy_pieces = sum([\n",
    "        pieces_value_dict.get(a_board.piece_map().get(i).piece_type) for i in list(a_board.piece_map()) if a_board.piece_map().get(i).color != a_color\n",
    "    ])\n",
    "    \n",
    "    return board_enemy_pieces\n",
    "\n",
    "def score_board_threat(a_board, a_color):\n",
    "    board_threat = sum([\n",
    "        pieces_value_dict.get(a_board.piece_map().get(i).piece_type) * len(list(a_board.attackers((a_color), i))) for i in list(a_board.piece_map()) if a_board.piece_map().get(i).color == (not a_color)\n",
    "    ])\n",
    "    \n",
    "    return board_threat\n",
    "\n",
    "def score_board_vulnerability(a_board, a_color):\n",
    "    board_vulnerability = sum([\n",
    "        pieces_value_dict.get(a_board.piece_map().get(i).piece_type) * len(list(a_board.attackers((not a_color), i))) for i in list(a_board.piece_map()) if a_board.piece_map().get(i).color == a_color\n",
    "    ])\n",
    "    \n",
    "    return board_vulnerability\n",
    "\n",
    "def score_board_position(a_board, a_color):\n",
    "    board_position = sum([\n",
    "        squares_value_dict.get(i) * pieces_value_dict.get(a_board.piece_map().get(i).piece_type) for i in list(a_board.piece_map()) if a_board.piece_map().get(i).color == a_color\n",
    "    ])\n",
    "    \n",
    "    return board_position\n"
   ]
  },
  {
   "cell_type": "markdown",
   "metadata": {},
   "source": [
    "Create a linear composition of the scores previously implemented"
   ]
  },
  {
   "cell_type": "code",
   "execution_count": null,
   "metadata": {},
   "outputs": [],
   "source": [
    "def score(a_board, a_color, pond):\n",
    "    \n",
    "    board_enemy_pieces = score_board_enemy_pieces(a_board, a_color)\n",
    "    \n",
    "    board_threat = score_board_threat(a_board, a_color)\n",
    "    \n",
    "    board_vulnerability = score_board_vulnerability(a_board, a_color)\n",
    "    \n",
    "    board_position = score_board_position(a_board, a_color)\n",
    "    \n",
    "    score = pond[0]*board_enemy_pieces + pond[1]*board_threat + pond[2]*board_vulnerability  + pond[3]*board_position\n",
    "    \n",
    "    return score if not board.is_fivefold_repetition() else -100"
   ]
  },
  {
   "cell_type": "markdown",
   "metadata": {},
   "source": [
    "Find the move with the best score"
   ]
  },
  {
   "cell_type": "code",
   "execution_count": null,
   "metadata": {},
   "outputs": [],
   "source": [
    "def best_moves(a_board, moves, color, pond = [-1, .5, -.5, 1]):\n",
    "    best_cand = moves[0]\n",
    "    a_board.push(best_cand)\n",
    "    best_score_cand = score(a_board, color, pond)\n",
    "    a_board.pop()\n",
    "    \n",
    "    for move in moves: \n",
    "        a_board.push(move)\n",
    "        if a_board.is_checkmate():\n",
    "            a_board.pop()\n",
    "            return move\n",
    "        cand_score = score(a_board, color, pond)\n",
    "        if cand_score > best_score_cand:\n",
    "            best_cand = move\n",
    "            best_score_cand = cand_score\n",
    "            \n",
    "        a_board.pop()\n",
    "    \n",
    "    return best_cand"
   ]
  },
  {
   "cell_type": "markdown",
   "metadata": {},
   "source": [
    "Play a single game"
   ]
  },
  {
   "cell_type": "code",
   "execution_count": null,
   "metadata": {},
   "outputs": [],
   "source": [
    "board = chess.Board()\n",
    "\n",
    "white_scores = []\n",
    "black_scores = []\n",
    "white_number_of_moves = []\n",
    "black_number_of_moves = []\n",
    "\n",
    "pond_theta = [-1, .5, -.5, 1]\n",
    "\n",
    "while not board.is_game_over():\n",
    "    all_moves = list(board.legal_moves)\n",
    "    random.shuffle(all_moves)\n",
    "    \n",
    "    if board.turn:\n",
    "        white_number_of_moves.append(len(all_moves))\n",
    "    else:\n",
    "        black_number_of_moves.append(len(all_moves))\n",
    "        \n",
    "    \n",
    "    move = best_moves(board, all_moves, board.turn, pond_theta)\n",
    "    \n",
    "    board.push(move)\n",
    "    \n",
    "    white_scores.append(score(board, chess.WHITE, pond_theta))\n",
    "    black_scores.append(score(board, chess.BLACK, pond_theta))\n",
    "\n",
    "plt.plot(white_scores)\n",
    "plt.plot(black_scores)\n",
    "\n",
    "plt.show()\n",
    "\n",
    "plt.plot(white_number_of_moves)\n",
    "plt.plot(black_number_of_moves)\n",
    "\n",
    "plt.show()\n",
    "\n",
    "display(board)"
   ]
  },
  {
   "cell_type": "code",
   "execution_count": null,
   "metadata": {},
   "outputs": [],
   "source": [
    "board.result()"
   ]
  },
  {
   "cell_type": "markdown",
   "metadata": {},
   "source": [
    "Here we are trying to determine the best ponderation possible"
   ]
  },
  {
   "cell_type": "code",
   "execution_count": null,
   "metadata": {},
   "outputs": [],
   "source": [
    "white_pond = [-3, .5, -.5, 1]\n",
    "black_pond = [-1, .5, -.5, 1]\n",
    "\n",
    "res = []\n",
    "\n",
    "for i in tqdm(range(50)):\n",
    "    board = chess.Board()\n",
    "    while not board.is_game_over():\n",
    "        all_moves = list(board.legal_moves)\n",
    "        random.shuffle(all_moves)\n",
    "        \n",
    "        move = best_moves(board, all_moves, board.turn, white_pond if board.turn == chess.WHITE else black_pond)\n",
    "        \n",
    "        board.push(move)\n",
    "    res.append(board.result())"
   ]
  },
  {
   "cell_type": "code",
   "execution_count": null,
   "metadata": {},
   "outputs": [],
   "source": [
    "sns.countplot(\n",
    "    res, \n",
    "    order = ['1-0', '1/2-1/2', '0-1']\n",
    ")"
   ]
  },
  {
   "cell_type": "markdown",
   "metadata": {},
   "source": [
    "We are also trying to assess the impact of the side playing (white has a advantage in chess since he is playing first)"
   ]
  },
  {
   "cell_type": "code",
   "execution_count": null,
   "metadata": {},
   "outputs": [],
   "source": [
    "black_pond = [-3, .5, -.5, 1]\n",
    "white_pond = [-1, .5, -.5, 1]\n",
    "\n",
    "res = []\n",
    "\n",
    "for i in tqdm(range(50)):\n",
    "    board = chess.Board()\n",
    "    while not board.is_game_over():\n",
    "        all_moves = list(board.legal_moves)\n",
    "        random.shuffle(all_moves)\n",
    "        \n",
    "        move = best_moves(board, all_moves, board.turn, white_pond if board.turn == chess.WHITE else black_pond)\n",
    "        \n",
    "        board.push(move)\n",
    "    res.append(board.result())"
   ]
  },
  {
   "cell_type": "code",
   "execution_count": null,
   "metadata": {},
   "outputs": [],
   "source": [
    "sns.countplot(\n",
    "    res, \n",
    "    order = ['1-0', '1/2-1/2', '0-1']\n",
    ")"
   ]
  },
  {
   "cell_type": "markdown",
   "metadata": {},
   "source": [
    "The goal here would be to determine the best ponderation possible :\n",
    "- Genetic algorithm\n",
    "- Heuristic \n",
    "- Speed up the score computing"
   ]
  },
  {
   "cell_type": "code",
   "execution_count": null,
   "metadata": {},
   "outputs": [],
   "source": []
  }
 ],
 "metadata": {
  "kernelspec": {
   "display_name": "Python 3 (ipykernel)",
   "language": "python",
   "name": "python3"
  },
  "language_info": {
   "codemirror_mode": {
    "name": "ipython",
    "version": 3
   },
   "file_extension": ".py",
   "mimetype": "text/x-python",
   "name": "python",
   "nbconvert_exporter": "python",
   "pygments_lexer": "ipython3",
   "version": "3.10.6"
  }
 },
 "nbformat": 4,
 "nbformat_minor": 4
}
