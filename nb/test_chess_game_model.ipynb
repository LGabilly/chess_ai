{
 "cells": [
  {
   "cell_type": "code",
   "execution_count": null,
   "id": "e81991e3-65c6-41a8-b049-de71c0ca0bfa",
   "metadata": {},
   "outputs": [],
   "source": [
    "from models.ChessGame import ChessGame"
   ]
  },
  {
   "cell_type": "code",
   "execution_count": null,
   "id": "9fc5012b-039e-4d24-b88e-74cb2f81e559",
   "metadata": {},
   "outputs": [],
   "source": [
    "from chess import BLACK,WHITE"
   ]
  },
  {
   "cell_type": "code",
   "execution_count": null,
   "id": "c0210218-7b03-46f9-862d-03c78ad892f5",
   "metadata": {},
   "outputs": [],
   "source": [
    "game = ChessGame()"
   ]
  },
  {
   "cell_type": "code",
   "execution_count": null,
   "id": "ea6c2b7e-9f04-4173-9edf-052b3cb39f00",
   "metadata": {},
   "outputs": [],
   "source": [
    "game._score_player_materials_value(WHITE)"
   ]
  },
  {
   "cell_type": "code",
   "execution_count": null,
   "id": "3e157237-a1cd-4747-89ca-034e18a50fab",
   "metadata": {},
   "outputs": [],
   "source": [
    "game.board"
   ]
  },
  {
   "cell_type": "code",
   "execution_count": null,
   "id": "1a7e72e8-e3a4-4189-a3cc-d4974c62a71c",
   "metadata": {},
   "outputs": [],
   "source": [
    "game.play_human_move(\"e4\")"
   ]
  },
  {
   "cell_type": "code",
   "execution_count": null,
   "id": "3a030350-7ee9-4639-8c73-9148b7717adf",
   "metadata": {},
   "outputs": [],
   "source": [
    "game.play_human_move(\"d5\")"
   ]
  },
  {
   "cell_type": "code",
   "execution_count": null,
   "id": "153287ca-65da-4472-9a94-87a4863b8bcd",
   "metadata": {},
   "outputs": [],
   "source": [
    "game.play_human_move(\"e4d5\")"
   ]
  },
  {
   "cell_type": "code",
   "execution_count": null,
   "id": "ea57977f-e0cf-4c12-945c-addfb8dfeb9f",
   "metadata": {},
   "outputs": [],
   "source": [
    "game.play_human_move(\"d8d5\")"
   ]
  },
  {
   "cell_type": "code",
   "execution_count": null,
   "id": "34e829eb-082a-40b7-b885-5c1b46e57492",
   "metadata": {},
   "outputs": [],
   "source": [
    "game.play_human_move(\"f1c4\")"
   ]
  },
  {
   "cell_type": "code",
   "execution_count": null,
   "id": "26c1793c-3e34-48ff-9b88-0b740202a2ae",
   "metadata": {},
   "outputs": [],
   "source": [
    "game._best_provided_moves(list(game.board.legal_moves), game.board.turn)"
   ]
  },
  {
   "cell_type": "code",
   "execution_count": null,
   "id": "333da02f-36ec-46e9-bc94-69e4456080b2",
   "metadata": {},
   "outputs": [],
   "source": []
  }
 ],
 "metadata": {
  "kernelspec": {
   "display_name": "Python 3 (ipykernel)",
   "language": "python",
   "name": "python3"
  },
  "language_info": {
   "codemirror_mode": {
    "name": "ipython",
    "version": 3
   },
   "file_extension": ".py",
   "mimetype": "text/x-python",
   "name": "python",
   "nbconvert_exporter": "python",
   "pygments_lexer": "ipython3",
   "version": "3.10.6"
  }
 },
 "nbformat": 4,
 "nbformat_minor": 5
}
