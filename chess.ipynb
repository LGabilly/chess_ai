{
 "cells": [
  {
   "cell_type": "code",
   "execution_count": 37,
   "metadata": {},
   "outputs": [],
   "source": [
    "import chess\n",
    "import random\n",
    "\n",
    "import time\n",
    "\n",
    "from tqdm import tqdm\n",
    "\n",
    "import matplotlib.pyplot as plt\n",
    "import seaborn as sns; sns.set()"
   ]
  },
  {
   "cell_type": "code",
   "execution_count": 2,
   "metadata": {},
   "outputs": [],
   "source": [
    "board = chess.Board()"
   ]
  },
  {
   "cell_type": "code",
   "execution_count": 3,
   "metadata": {},
   "outputs": [],
   "source": [
    "pieces_value_dict = {\n",
    "    1: 1.0,\n",
    "    2: 3.0,\n",
    "    3: 3.0,\n",
    "    4: 5.0,\n",
    "    5: 9.0,\n",
    "    6: 0.0,\n",
    "}"
   ]
  },
  {
   "cell_type": "code",
   "execution_count": 4,
   "metadata": {},
   "outputs": [],
   "source": [
    "squares_value_dict = {\n",
    "}\n",
    "\n",
    "for k in range(0, 64):\n",
    "    if k in [27, 28, 35, 36]:\n",
    "        squares_value_dict[k] = 1.5\n",
    "    elif k in [18, 19, 20, 21, 26, 29, 34, 37, 42, 43, 44, 45]:\n",
    "        squares_value_dict[k] = 1\n",
    "    else: \n",
    "        squares_value_dict[k] = 0.75"
   ]
  },
  {
   "cell_type": "code",
   "execution_count": 5,
   "metadata": {},
   "outputs": [],
   "source": [
    "def score_board_enemy_pieces(a_board, a_color):\n",
    "    board_enemy_pieces = sum([\n",
    "        pieces_value_dict.get(a_board.piece_map().get(i).piece_type) for i in list(a_board.piece_map()) if a_board.piece_map().get(i).color != a_color\n",
    "    ])\n",
    "    \n",
    "    return board_enemy_pieces\n",
    "\n",
    "def score_board_threat(a_board, a_color):\n",
    "    board_threat = sum([\n",
    "        pieces_value_dict.get(a_board.piece_map().get(i).piece_type) * len(list(a_board.attackers((a_color), i))) for i in list(a_board.piece_map()) if a_board.piece_map().get(i).color == (not a_color)\n",
    "    ])\n",
    "    \n",
    "    return board_threat\n",
    "\n",
    "def score_board_vulnerability(a_board, a_color):\n",
    "    board_vulnerability = sum([\n",
    "        pieces_value_dict.get(a_board.piece_map().get(i).piece_type) * len(list(a_board.attackers((not a_color), i))) for i in list(a_board.piece_map()) if a_board.piece_map().get(i).color == a_color\n",
    "    ])\n",
    "    \n",
    "    return board_vulnerability\n",
    "\n",
    "def score_board_position(a_board, a_color):\n",
    "    board_position = sum([\n",
    "        squares_value_dict.get(i) * pieces_value_dict.get(a_board.piece_map().get(i).piece_type) for i in list(a_board.piece_map()) if a_board.piece_map().get(i).color == a_color\n",
    "    ])\n",
    "    \n",
    "    return board_position\n"
   ]
  },
  {
   "cell_type": "code",
   "execution_count": 28,
   "metadata": {},
   "outputs": [],
   "source": [
    "def score(a_board, a_color, pond):\n",
    "    \n",
    "    board_enemy_pieces = score_board_enemy_pieces(a_board, a_color)\n",
    "    \n",
    "    board_threat = score_board_threat(a_board, a_color)\n",
    "    \n",
    "    board_vulnerability = score_board_vulnerability(a_board, a_color)\n",
    "    \n",
    "    board_position = score_board_position(a_board, a_color)\n",
    "    \n",
    "    score = pond[0]*board_enemy_pieces + pond[1]*board_threat + pond[2]*board_vulnerability  + pond[3]*board_position\n",
    "    \n",
    "    return score if not board.is_fivefold_repetition() else -100"
   ]
  },
  {
   "cell_type": "code",
   "execution_count": 31,
   "metadata": {},
   "outputs": [],
   "source": [
    "def best_moves(a_board, moves, color, pond = [-1, .5, -.5, 1]):\n",
    "    best_cand = moves[0]\n",
    "    a_board.push(best_cand)\n",
    "    best_score_cand = score(a_board, color, pond)\n",
    "    a_board.pop()\n",
    "    \n",
    "    for move in moves: \n",
    "        a_board.push(move)\n",
    "        if a_board.is_checkmate():\n",
    "            a_board.pop()\n",
    "            return move\n",
    "        cand_score = score(a_board, color, pond)\n",
    "        if cand_score > best_score_cand:\n",
    "            best_cand = move\n",
    "            best_score_cand = cand_score\n",
    "            \n",
    "        a_board.pop()\n",
    "    \n",
    "    return best_cand"
   ]
  },
  {
   "cell_type": "code",
   "execution_count": 32,
   "metadata": {},
   "outputs": [
    {
     "ename": "TypeError",
     "evalue": "score() missing 1 required positional argument: 'pond'",
     "output_type": "error",
     "traceback": [
      "\u001b[1;31m---------------------------------------------------------------------------\u001b[0m",
      "\u001b[1;31mTypeError\u001b[0m                                 Traceback (most recent call last)",
      "\u001b[1;32m<ipython-input-32-ff021025750a>\u001b[0m in \u001b[0;36m<module>\u001b[1;34m\u001b[0m\n\u001b[0;32m     26\u001b[0m \u001b[1;31m#     print(\"black score : {}\".format(score(board, chess.BLACK)))\u001b[0m\u001b[1;33m\u001b[0m\u001b[1;33m\u001b[0m\u001b[1;33m\u001b[0m\u001b[0m\n\u001b[0;32m     27\u001b[0m \u001b[1;33m\u001b[0m\u001b[0m\n\u001b[1;32m---> 28\u001b[1;33m     \u001b[0mwhite_scores\u001b[0m\u001b[1;33m.\u001b[0m\u001b[0mappend\u001b[0m\u001b[1;33m(\u001b[0m\u001b[0mscore\u001b[0m\u001b[1;33m(\u001b[0m\u001b[0mboard\u001b[0m\u001b[1;33m,\u001b[0m \u001b[0mchess\u001b[0m\u001b[1;33m.\u001b[0m\u001b[0mWHITE\u001b[0m\u001b[1;33m)\u001b[0m\u001b[1;33m)\u001b[0m\u001b[1;33m\u001b[0m\u001b[1;33m\u001b[0m\u001b[0m\n\u001b[0m\u001b[0;32m     29\u001b[0m     \u001b[0mblack_scores\u001b[0m\u001b[1;33m.\u001b[0m\u001b[0mappend\u001b[0m\u001b[1;33m(\u001b[0m\u001b[0mscore\u001b[0m\u001b[1;33m(\u001b[0m\u001b[0mboard\u001b[0m\u001b[1;33m,\u001b[0m \u001b[0mchess\u001b[0m\u001b[1;33m.\u001b[0m\u001b[0mBLACK\u001b[0m\u001b[1;33m)\u001b[0m\u001b[1;33m)\u001b[0m\u001b[1;33m\u001b[0m\u001b[1;33m\u001b[0m\u001b[0m\n",
      "\u001b[1;31mTypeError\u001b[0m: score() missing 1 required positional argument: 'pond'"
     ]
    }
   ],
   "source": [
    "board = chess.Board()\n",
    "\n",
    "white_scores = []\n",
    "black_scores = []\n",
    "white_number_of_moves = []\n",
    "black_number_of_moves = []\n",
    "\n",
    "while not board.is_game_over():\n",
    "    all_moves = list(board.legal_moves)\n",
    "    random.shuffle(all_moves)\n",
    "    \n",
    "    if board.turn:\n",
    "        white_number_of_moves.append(len(all_moves))\n",
    "    else:\n",
    "        black_number_of_moves.append(len(all_moves))\n",
    "        \n",
    "    \n",
    "    move = best_moves(board, all_moves, board.turn)\n",
    "    \n",
    "    board.push(move)\n",
    "    \n",
    "#     print(\"====================\")\n",
    "#     print(board)\n",
    "    \n",
    "#     print(\"white score : {}\".format(score(board, chess.WHITE)))\n",
    "#     print(\"black score : {}\".format(score(board, chess.BLACK)))\n",
    "    \n",
    "    white_scores.append(score(board, chess.WHITE))\n",
    "    black_scores.append(score(board, chess.BLACK))"
   ]
  },
  {
   "cell_type": "code",
   "execution_count": 21,
   "metadata": {},
   "outputs": [
    {
     "data": {
      "text/plain": [
       "[<matplotlib.lines.Line2D at 0x1d230f65ca0>]"
      ]
     },
     "execution_count": 21,
     "metadata": {},
     "output_type": "execute_result"
    },
    {
     "data": {
      "image/png": "[encoded data removed]",
      "text/plain": [
       "<Figure size 432x288 with 1 Axes>"
      ]
     },
     "metadata": {
      "needs_background": "light"
     },
     "output_type": "display_data"
    }
   ],
   "source": [
    "plt.plot(white_scores)\n",
    "plt.plot(black_scores)"
   ]
  },
  {
   "cell_type": "code",
   "execution_count": 22,
   "metadata": {},
   "outputs": [
    {
     "data": {
      "text/plain": [
       "[<matplotlib.lines.Line2D at 0x1d230fbfd90>]"
      ]
     },
     "execution_count": 22,
     "metadata": {},
     "output_type": "execute_result"
    },
    {
     "data": {
      "image/png": "[encoded data removed]",
      "text/plain": [
       "<Figure size 432x288 with 1 Axes>"
      ]
     },
     "metadata": {
      "needs_background": "light"
     },
     "output_type": "display_data"
    }
   ],
   "source": [
    "plt.plot(white_number_of_moves)\n",
    "plt.plot(black_number_of_moves)"
   ]
  },
  {
   "cell_type": "code",
   "execution_count": 23,
   "metadata": {},
   "outputs": [
    {
     "name": "stdout",
     "output_type": "stream",
     "text": [
      ". . . . . . . .\n",
      ". . . . . . q K\n",
      ". . . . . . . .\n",
      ". . . . . . . .\n",
      ". . . q . . . .\n",
      "k . . . . . . .\n",
      ". . . . . . . .\n",
      ". . . . . . . .\n"
     ]
    }
   ],
   "source": [
    "print(board)"
   ]
  },
  {
   "cell_type": "code",
   "execution_count": 24,
   "metadata": {},
   "outputs": [
    {
     "data": {
      "text/plain": [
       "'0-1'"
      ]
     },
     "execution_count": 24,
     "metadata": {},
     "output_type": "execute_result"
    }
   ],
   "source": [
    "board.result()"
   ]
  },
  {
   "cell_type": "code",
   "execution_count": 47,
   "metadata": {},
   "outputs": [
    {
     "name": "stderr",
     "output_type": "stream",
     "text": [
      "100%|██████████| 10/10 [01:59<00:00, 12.00s/it]\n"
     ]
    }
   ],
   "source": [
    "alpha_pond = [-1, .5, -.5, 1]\n",
    "beta_pond = [-1, .5, -.5, 1]\n",
    "\n",
    "res = []\n",
    "\n",
    "for i in tqdm(range(10)):\n",
    "    board = chess.Board()\n",
    "    while not board.is_game_over():\n",
    "        all_moves = list(board.legal_moves)\n",
    "        random.shuffle(all_moves)\n",
    "        \n",
    "        move = best_moves(board, all_moves, board.turn, alpha_pond if board.turn else beta_pond)\n",
    "        \n",
    "        board.push(move)\n",
    "    res.append(board.result())"
   ]
  },
  {
   "cell_type": "code",
   "execution_count": 48,
   "metadata": {},
   "outputs": [
    {
     "data": {
      "text/plain": [
       "<matplotlib.axes._subplots.AxesSubplot at 0x1d235f35e80>"
      ]
     },
     "execution_count": 48,
     "metadata": {},
     "output_type": "execute_result"
    },
    {
     "data": {
      "image/png": "[encoded data removed]",
      "text/plain": [
       "<Figure size 432x288 with 1 Axes>"
      ]
     },
     "metadata": {},
     "output_type": "display_data"
    }
   ],
   "source": [
    "sns.countplot(res)"
   ]
  },
  {
   "cell_type": "code",
   "execution_count": 49,
   "metadata": {},
   "outputs": [
    {
     "ename": "TypeError",
     "evalue": "count() takes exactly one argument (0 given)",
     "output_type": "error",
     "traceback": [
      "\u001b[1;31m---------------------------------------------------------------------------\u001b[0m",
      "\u001b[1;31mTypeError\u001b[0m                                 Traceback (most recent call last)",
      "\u001b[1;32m<ipython-input-49-7d5c05a87d0e>\u001b[0m in \u001b[0;36m<module>\u001b[1;34m\u001b[0m\n\u001b[1;32m----> 1\u001b[1;33m \u001b[0mres\u001b[0m\u001b[1;33m.\u001b[0m\u001b[0mcount\u001b[0m\u001b[1;33m(\u001b[0m\u001b[1;33m)\u001b[0m\u001b[1;33m\u001b[0m\u001b[1;33m\u001b[0m\u001b[0m\n\u001b[0m",
      "\u001b[1;31mTypeError\u001b[0m: count() takes exactly one argument (0 given)"
     ]
    }
   ],
   "source": []
  },
  {
   "cell_type": "code",
   "execution_count": null,
   "metadata": {},
   "outputs": [],
   "source": []
  }
 ],
 "metadata": {
  "kernelspec": {
   "display_name": "Python 3",
   "language": "python",
   "name": "python3"
  },
  "language_info": {
   "codemirror_mode": {
    "name": "ipython",
    "version": 3
   },
   "file_extension": ".py",
   "mimetype": "text/x-python",
   "name": "python",
   "nbconvert_exporter": "python",
   "pygments_lexer": "ipython3",
   "version": "3.8.3"
  }
 },
 "nbformat": 4,
 "nbformat_minor": 4
}
